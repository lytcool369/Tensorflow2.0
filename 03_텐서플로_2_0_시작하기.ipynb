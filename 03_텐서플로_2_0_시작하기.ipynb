{
  "nbformat": 4,
  "nbformat_minor": 0,
  "metadata": {
    "colab": {
      "name": "03. 텐서플로 2.0 시작하기.ipynb",
      "provenance": [],
      "machine_shape": "hm",
      "authorship_tag": "ABX9TyPvQWRguUEE5AW45I5fC/JM",
      "include_colab_link": true
    },
    "kernelspec": {
      "name": "python3",
      "display_name": "Python 3"
    },
    "accelerator": "GPU"
  },
  "cells": [
    {
      "cell_type": "markdown",
      "metadata": {
        "id": "view-in-github",
        "colab_type": "text"
      },
      "source": [
        "<a href=\"https://colab.research.google.com/github/lytcool369/tensorflow2.0/blob/master/03_%ED%85%90%EC%84%9C%ED%94%8C%EB%A1%9C_2_0_%EC%8B%9C%EC%9E%91%ED%95%98%EA%B8%B0.ipynb\" target=\"_parent\"><img src=\"https://colab.research.google.com/assets/colab-badge.svg\" alt=\"Open In Colab\"/></a>"
      ]
    },
    {
      "cell_type": "code",
      "metadata": {
        "colab": {
          "base_uri": "https://localhost:8080/"
        },
        "id": "ydz-B3E3XBck",
        "outputId": "d16972d3-c88c-4012-943b-5f1ba5a728c7"
      },
      "source": [
        "# 3.7 난수 얻기(균일 분포)\n",
        "import tensorflow as tf\n",
        "import matplotlib.pyplot as plt\n",
        "\n",
        "rand = tf.random.uniform([1], 0, 1)\n",
        "print(rand)"
      ],
      "execution_count": null,
      "outputs": [
        {
          "output_type": "stream",
          "text": [
            "tf.Tensor([0.7353165], shape=(1,), dtype=float32)\n"
          ],
          "name": "stdout"
        }
      ]
    },
    {
      "cell_type": "code",
      "metadata": {
        "colab": {
          "base_uri": "https://localhost:8080/"
        },
        "id": "BiY6ISsfXLS3",
        "outputId": "1a4917a3-31a9-4182-d42c-d8130e35cd36"
      },
      "source": [
        "# 3.8 난수 여러개 얻기 (균일 분포)\n",
        "rand = tf.random.uniform([4], 0, 1)\n",
        "print(rand)"
      ],
      "execution_count": null,
      "outputs": [
        {
          "output_type": "stream",
          "text": [
            "tf.Tensor([0.42317748 0.69271445 0.41266823 0.5442978 ], shape=(4,), dtype=float32)\n"
          ],
          "name": "stdout"
        }
      ]
    },
    {
      "cell_type": "code",
      "metadata": {
        "colab": {
          "base_uri": "https://localhost:8080/"
        },
        "id": "etEPzDnOXaDa",
        "outputId": "0102c60a-e65b-4458-b305-21d744e64a35"
      },
      "source": [
        "# 3.9 난수 얻기 (정규 분포)\n",
        "rand = tf.random.normal([4], 0, 1)\n",
        "print(rand)"
      ],
      "execution_count": null,
      "outputs": [
        {
          "output_type": "stream",
          "text": [
            "tf.Tensor([ 0.5251804 -0.537773  -1.2567564 -0.9572656], shape=(4,), dtype=float32)\n"
          ],
          "name": "stdout"
        }
      ]
    },
    {
      "cell_type": "code",
      "metadata": {
        "id": "HDaoha14X_Bk"
      },
      "source": [
        "# 3.10 시그모이드 함수\n",
        "import math\n",
        "\n",
        "def sigmoid(x):\n",
        "  return 1 / (1 + math.exp(-x))"
      ],
      "execution_count": null,
      "outputs": []
    },
    {
      "cell_type": "code",
      "metadata": {
        "colab": {
          "base_uri": "https://localhost:8080/"
        },
        "id": "KslJW1WMYanE",
        "outputId": "3676284c-3eaf-4c38-e74f-0af36a2f2984"
      },
      "source": [
        "# 3.11 뉴런의 입력과 출력 정의\n",
        "x = 1\n",
        "y = 0\n",
        "w = tf.random.normal([1], 0, 1)\n",
        "output = sigmoid(x * w)\n",
        "print(output)"
      ],
      "execution_count": null,
      "outputs": [
        {
          "output_type": "stream",
          "text": [
            "0.34597366229057075\n"
          ],
          "name": "stdout"
        }
      ]
    },
    {
      "cell_type": "code",
      "metadata": {
        "colab": {
          "base_uri": "https://localhost:8080/"
        },
        "id": "Gx8Z7HhaajqH",
        "outputId": "f5ed6471-89ab-4dfa-c96a-a46fa6b35220"
      },
      "source": [
        "# 3.12 경사 하강법을 이용한 뉴런의 학습\n",
        "x = 1\n",
        "y = 0\n",
        "w = tf.random.normal([1], 0, 1)\n",
        "\n",
        "for i in range(1000):\n",
        "  output = sigmoid(x * w)\n",
        "  error = y - output\n",
        "  w = w + x * 0.1 * error\n",
        "\n",
        "  if i % 100 == 99:\n",
        "    print(i, error, \"\\t\", output)"
      ],
      "execution_count": null,
      "outputs": [
        {
          "output_type": "stream",
          "text": [
            "99 -0.11287153944474228 \t 0.11287153944474228\n",
            "199 -0.05519632716631186 \t 0.05519632716631186\n",
            "299 -0.03610887030799743 \t 0.03610887030799743\n",
            "399 -0.026738707422745457 \t 0.026738707422745457\n",
            "499 -0.021198683557359134 \t 0.021198683557359134\n",
            "599 -0.017547125678997855 \t 0.017547125678997855\n",
            "699 -0.01496214573748289 \t 0.01496214573748289\n",
            "799 -0.013037383045468453 \t 0.013037383045468453\n",
            "899 -0.011549234980887585 \t 0.011549234980887585\n",
            "999 -0.010364634525544125 \t 0.010364634525544125\n"
          ],
          "name": "stdout"
        }
      ]
    },
    {
      "cell_type": "code",
      "metadata": {
        "id": "w9VVVv6oeKdy"
      },
      "source": [
        "# x=0, y=1일 때, y=1을 얻는 뉴런의 학습"
      ],
      "execution_count": null,
      "outputs": []
    },
    {
      "cell_type": "code",
      "metadata": {
        "id": "PJ-FRpLDdMok"
      },
      "source": [
        "# 3.14 뉴런의 학습에 편향을 더함\n",
        "x = 0\n",
        "y = 1\n",
        "w = tf.random.normal([1], 0, 1)\n",
        "b = tf.random.normal([1], 0, 1)\n",
        "\n",
        "for i in range(1000):\n",
        "  output = sigmoid(x * w + 1 * b)\n",
        "  error = y - "
      ],
      "execution_count": null,
      "outputs": []
    }
  ]
}